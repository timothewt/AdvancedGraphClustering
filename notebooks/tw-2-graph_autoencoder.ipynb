{
 "cells": [
  {
   "cell_type": "code",
   "execution_count": 1,
   "id": "initial_id",
   "metadata": {
    "collapsed": true,
    "ExecuteTime": {
     "end_time": "2024-05-03T06:12:24.299289500Z",
     "start_time": "2024-05-03T06:12:09.815920300Z"
    }
   },
   "outputs": [],
   "source": [
    "import numpy as np\n",
    "import torch\n",
    "import torch.nn as nn\n",
    "import torch.optim as optim\n",
    "import torch.nn.functional as F\n",
    "from torch_geometric.datasets import Planetoid\n",
    "from torch_geometric.data import DataLoader\n",
    "from torch_geometric.nn import GAE, GCNConv, VGAE\n",
    "from sklearn.metrics import accuracy_score\n",
    "import matplotlib.pyplot as plt\n",
    "import networkx as nx"
   ]
  },
  {
   "cell_type": "markdown",
   "source": [
    "# (Variational) Graph Autoencoder\n",
    "From the paper [Graph Autoencoders](https://arxiv.org/pdf/1611.07308)\n",
    "The paper uses this methods for link prediction. However, it has also been used for graph clustering."
   ],
   "metadata": {
    "collapsed": false
   },
   "id": "c24cc584be8aa77b"
  },
  {
   "cell_type": "markdown",
   "source": [
    "## Loading the data\n",
    "We use the Cora dataset, a standard benchmark dataset for clustering."
   ],
   "metadata": {
    "collapsed": false
   },
   "id": "88f00f8c365409b2"
  },
  {
   "cell_type": "code",
   "outputs": [
    {
     "data": {
      "text/plain": "Data(x=[2708, 1433], edge_index=[2, 10556], y=[2708])"
     },
     "execution_count": 5,
     "metadata": {},
     "output_type": "execute_result"
    }
   ],
   "source": [
    "dataset = Planetoid(root='../data/Planetoid', name='Cora')\n",
    "data = dataset[0]\n",
    "data.train_mask = data.test_mask = data.val_mask = None\n",
    "data"
   ],
   "metadata": {
    "collapsed": false,
    "ExecuteTime": {
     "end_time": "2024-05-03T07:04:18.897823200Z",
     "start_time": "2024-05-03T07:04:18.861430100Z"
    }
   },
   "id": "5d0591801dc6a541",
   "execution_count": 5
  },
  {
   "cell_type": "code",
   "outputs": [],
   "source": [],
   "metadata": {
    "collapsed": false
   },
   "id": "7039bfcb0a460529"
  }
 ],
 "metadata": {
  "kernelspec": {
   "display_name": "Python 3",
   "language": "python",
   "name": "python3"
  },
  "language_info": {
   "codemirror_mode": {
    "name": "ipython",
    "version": 2
   },
   "file_extension": ".py",
   "mimetype": "text/x-python",
   "name": "python",
   "nbconvert_exporter": "python",
   "pygments_lexer": "ipython2",
   "version": "2.7.6"
  }
 },
 "nbformat": 4,
 "nbformat_minor": 5
}
