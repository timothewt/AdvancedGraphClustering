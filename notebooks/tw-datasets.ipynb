{
 "cells": [
  {
   "cell_type": "code",
   "execution_count": 1,
   "id": "initial_id",
   "metadata": {
    "collapsed": true,
    "ExecuteTime": {
     "end_time": "2024-05-25T04:17:36.684766100Z",
     "start_time": "2024-05-25T04:17:27.616149100Z"
    }
   },
   "outputs": [],
   "source": [
    "import numpy as np\n",
    "import torch_geometric as pyg\n",
    "from torch_geometric.utils import to_dense_adj"
   ]
  },
  {
   "cell_type": "markdown",
   "source": [
    "# KarateClub dataset"
   ],
   "metadata": {
    "collapsed": false
   },
   "id": "c35311cfde4d22fb"
  },
  {
   "cell_type": "code",
   "outputs": [],
   "source": [
    "karateclub = pyg.datasets.KarateClub()[0]\n",
    "\n",
    "adj = to_dense_adj(karateclub.edge_index).squeeze().numpy().astype(np.int8)\n",
    "feat = karateclub.x.numpy().astype(np.int8)\n",
    "label = karateclub.y.numpy().astype(np.int8)\n",
    "\n",
    "np.save(\"../data/karateclub/adj.npy\", adj)\n",
    "np.save(\"../data/karateclub/feat.npy\", feat)\n",
    "np.save(\"../data/karateclub/label.npy\", label)"
   ],
   "metadata": {
    "collapsed": false,
    "ExecuteTime": {
     "end_time": "2024-05-21T14:32:02.654344700Z",
     "start_time": "2024-05-21T14:32:02.561946400Z"
    }
   },
   "id": "7d4639ea6d5b2c7f",
   "execution_count": 18
  },
  {
   "cell_type": "markdown",
   "source": [
    "# Dataset compression\n",
    "The dataset sizes are reduced by converting the data types to int8. The original data types are float32 / int32."
   ],
   "metadata": {
    "collapsed": false
   },
   "id": "b46d70cab585c72e"
  },
  {
   "cell_type": "code",
   "outputs": [],
   "source": [
    "dataset = \"uat\""
   ],
   "metadata": {
    "collapsed": false,
    "ExecuteTime": {
     "end_time": "2024-05-25T04:42:14.581019Z",
     "start_time": "2024-05-25T04:42:14.575323100Z"
    }
   },
   "id": "71b29202bf11da",
   "execution_count": 40
  },
  {
   "cell_type": "code",
   "outputs": [
    {
     "data": {
      "text/plain": "(array([0, 1], dtype=int8), (1190, 1190), dtype('int8'))"
     },
     "execution_count": 41,
     "metadata": {},
     "output_type": "execute_result"
    }
   ],
   "source": [
    "adj = np.load(\"../data/\" + dataset + \"/adj.npy\")\n",
    "np.unique(adj), adj.shape, adj.dtype"
   ],
   "metadata": {
    "collapsed": false,
    "ExecuteTime": {
     "end_time": "2024-05-25T04:42:14.905359900Z",
     "start_time": "2024-05-25T04:42:14.864350300Z"
    }
   },
   "id": "7845ea1f1e537149",
   "execution_count": 41
  },
  {
   "cell_type": "code",
   "outputs": [],
   "source": [
    "np.save(\"../data/\" + dataset + \"/adj.npy\", adj.astype(np.int8))"
   ],
   "metadata": {
    "collapsed": false,
    "ExecuteTime": {
     "end_time": "2024-05-25T04:42:17.426548200Z",
     "start_time": "2024-05-25T04:42:17.411758200Z"
    }
   },
   "id": "30bb4a6335e37319",
   "execution_count": 42
  },
  {
   "cell_type": "code",
   "outputs": [
    {
     "data": {
      "text/plain": "(array([0, 1], dtype=int8), (1190, 239), dtype('int8'))"
     },
     "execution_count": 43,
     "metadata": {},
     "output_type": "execute_result"
    }
   ],
   "source": [
    "feat = np.load(\"../data/\" + dataset + \"/feat.npy\")\n",
    "np.unique(feat), feat.shape, feat.dtype"
   ],
   "metadata": {
    "collapsed": false,
    "ExecuteTime": {
     "end_time": "2024-05-25T04:42:17.621238200Z",
     "start_time": "2024-05-25T04:42:17.605779Z"
    }
   },
   "id": "982fe40749c71060",
   "execution_count": 43
  },
  {
   "cell_type": "code",
   "outputs": [],
   "source": [
    "np.save(\"../data/\" + dataset + \"/feat.npy\", feat.astype(np.int8))"
   ],
   "metadata": {
    "collapsed": false,
    "ExecuteTime": {
     "end_time": "2024-05-25T04:42:17.937263800Z",
     "start_time": "2024-05-25T04:42:17.928359700Z"
    }
   },
   "id": "2494916ec11e9b",
   "execution_count": 44
  },
  {
   "cell_type": "code",
   "outputs": [
    {
     "data": {
      "text/plain": "(array([0, 1, 2, 3]), (1190,), dtype('int32'))"
     },
     "execution_count": 48,
     "metadata": {},
     "output_type": "execute_result"
    }
   ],
   "source": [
    "label = np.load(\"../data/\" + dataset + \"/label.npy\")\n",
    "np.unique(label), label.shape, label.dtype"
   ],
   "metadata": {
    "collapsed": false,
    "ExecuteTime": {
     "end_time": "2024-05-25T04:47:30.822737300Z",
     "start_time": "2024-05-25T04:47:30.805952800Z"
    }
   },
   "id": "c8eaa0ae7cc64509",
   "execution_count": 48
  }
 ],
 "metadata": {
  "kernelspec": {
   "display_name": "Python 3",
   "language": "python",
   "name": "python3"
  },
  "language_info": {
   "codemirror_mode": {
    "name": "ipython",
    "version": 2
   },
   "file_extension": ".py",
   "mimetype": "text/x-python",
   "name": "python",
   "nbconvert_exporter": "python",
   "pygments_lexer": "ipython2",
   "version": "2.7.6"
  }
 },
 "nbformat": 4,
 "nbformat_minor": 5
}
