{
 "cells": [
  {
   "cell_type": "code",
   "execution_count": 10,
   "id": "initial_id",
   "metadata": {
    "collapsed": true,
    "ExecuteTime": {
     "end_time": "2024-05-08T14:38:49.054024800Z",
     "start_time": "2024-05-08T14:38:48.997043300Z"
    }
   },
   "outputs": [],
   "source": [
    "import numpy as np\n",
    "import torch\n",
    "import torch.nn as nn\n",
    "import torch.optim as optim\n",
    "import torch.nn.functional as F\n",
    "from torch_geometric.datasets import Planetoid\n",
    "from torch_geometric.data import Data\n",
    "from torch_geometric.nn import GAE, GCNConv\n",
    "from torch_geometric.utils import to_dense_adj\n",
    "from tqdm import trange\n",
    "from utils import evaluate_clustering, get_clusters, plot_training_history, plot_3d_clustering_comparison"
   ]
  },
  {
   "cell_type": "markdown",
   "source": [
    "# Adaptive Graph Encoder\n",
    "From the paper [Adaptive Graph Encoder for Attributed Graph Embedding](https://arxiv.org/pdf/2007.01594)"
   ],
   "metadata": {
    "collapsed": false
   },
   "id": "394a5cf4d8b763ad"
  },
  {
   "cell_type": "markdown",
   "source": [
    "## Loading the data\n",
    "We use the Cora dataset, a standard benchmark dataset for clustering."
   ],
   "metadata": {
    "collapsed": false
   },
   "id": "e60dde11a6b14222"
  },
  {
   "cell_type": "code",
   "outputs": [
    {
     "data": {
      "text/plain": "Data(x=[2708, 1433], edge_index=[2, 10556], y=[2708])"
     },
     "execution_count": 11,
     "metadata": {},
     "output_type": "execute_result"
    }
   ],
   "source": [
    "dataset = Planetoid(root='../data/Planetoid', name='Cora')\n",
    "data = dataset[0]\n",
    "data.train_mask = data.test_mask = data.val_mask = None\n",
    "data"
   ],
   "metadata": {
    "collapsed": false,
    "ExecuteTime": {
     "end_time": "2024-05-08T14:38:49.081587300Z",
     "start_time": "2024-05-08T14:38:49.060553400Z"
    }
   },
   "id": "552ffce711fa7092",
   "execution_count": 11
  },
  {
   "cell_type": "markdown",
   "source": [
    "## Adaptive Graph Encoder (AdaGAE) model\n"
   ],
   "metadata": {
    "collapsed": false
   },
   "id": "d5ca8a32a1440dd6"
  },
  {
   "cell_type": "code",
   "outputs": [
    {
     "data": {
      "text/plain": "torch.Size([2708, 2708])"
     },
     "execution_count": 12,
     "metadata": {},
     "output_type": "execute_result"
    }
   ],
   "source": [
    "A = to_dense_adj(data.edge_index)[0]\n",
    "A_ = A + torch.eye(A.size(0))\n",
    "D_ = torch.diag(torch.sum(A_, dim=1))\n",
    "L_ = D_ - A_\n",
    "D_inv_sqrt = torch.diag(1 / torch.sqrt(torch.diag(D_)))\n",
    "L_sym = D_inv_sqrt @ L_ @ D_inv_sqrt\n",
    "L_sym.shape"
   ],
   "metadata": {
    "collapsed": false,
    "ExecuteTime": {
     "end_time": "2024-05-08T14:38:49.566766500Z",
     "start_time": "2024-05-08T14:38:49.086129300Z"
    }
   },
   "id": "c097a24fd7121553",
   "execution_count": 12
  },
  {
   "cell_type": "code",
   "outputs": [
    {
     "data": {
      "text/plain": "(tensor([[0.5000, 0.0000, 0.0000,  ..., 0.0000, 0.0000, 0.0000],\n         [0.0000, 0.5000, 0.1361,  ..., 0.0000, 0.0000, 0.0000],\n         [0.0000, 0.1361, 0.4444,  ..., 0.0000, 0.0000, 0.0000],\n         ...,\n         [0.0000, 0.0000, 0.0000,  ..., 0.6667, 0.0000, 0.0000],\n         [0.0000, 0.0000, 0.0000,  ..., 0.0000, 0.4667, 0.1333],\n         [0.0000, 0.0000, 0.0000,  ..., 0.0000, 0.1333, 0.4667]]),\n torch.Size([2708, 2708]))"
     },
     "execution_count": 13,
     "metadata": {},
     "output_type": "execute_result"
    }
   ],
   "source": [
    "k = 2/3  # from the paper (best value for cora)\n",
    "H = torch.eye(L_sym.size(0)) - k * L_sym\n",
    "H, H.shape"
   ],
   "metadata": {
    "collapsed": false,
    "ExecuteTime": {
     "end_time": "2024-05-08T14:38:49.624888500Z",
     "start_time": "2024-05-08T14:38:49.564557300Z"
    }
   },
   "id": "ae418eb73c8b525c",
   "execution_count": 13
  },
  {
   "cell_type": "code",
   "outputs": [
    {
     "data": {
      "text/plain": "(tensor([[0.0000e+00, 0.0000e+00, 0.0000e+00,  ..., 0.0000e+00, 2.4387e-07,\n          0.0000e+00],\n         [0.0000e+00, 0.0000e+00, 0.0000e+00,  ..., 0.0000e+00, 0.0000e+00,\n          0.0000e+00],\n         [0.0000e+00, 0.0000e+00, 0.0000e+00,  ..., 0.0000e+00, 0.0000e+00,\n          0.0000e+00],\n         ...,\n         [0.0000e+00, 0.0000e+00, 0.0000e+00,  ..., 0.0000e+00, 0.0000e+00,\n          0.0000e+00],\n         [0.0000e+00, 0.0000e+00, 0.0000e+00,  ..., 0.0000e+00, 0.0000e+00,\n          0.0000e+00],\n         [0.0000e+00, 0.0000e+00, 0.0000e+00,  ..., 0.0000e+00, 0.0000e+00,\n          0.0000e+00]]),\n torch.Size([2708, 1433]))"
     },
     "execution_count": 14,
     "metadata": {},
     "output_type": "execute_result"
    }
   ],
   "source": [
    "X_ = H.pow(8) @ data.x  # t=8 from the paper\n",
    "X_, X_.shape"
   ],
   "metadata": {
    "collapsed": false,
    "ExecuteTime": {
     "end_time": "2024-05-08T14:38:49.774485400Z",
     "start_time": "2024-05-08T14:38:49.593284500Z"
    }
   },
   "id": "907c8a53f73b147a",
   "execution_count": 14
  },
  {
   "cell_type": "code",
   "outputs": [
    {
     "data": {
      "text/plain": "(tensor([[3.6707e-05, 4.0928e-06, 1.5924e-06,  ..., 4.0740e-05, 4.6988e-06,\n          4.6985e-06],\n         [4.0928e-06, 9.3958e-05, 4.7989e-06,  ..., 8.1669e-05, 2.3599e-06,\n          2.3560e-06],\n         [1.5924e-06, 4.7989e-06, 1.1775e-05,  ..., 3.1836e-05, 9.1771e-07,\n          9.1675e-07],\n         ...,\n         [4.0740e-05, 8.1669e-05, 3.1836e-05,  ..., 7.3334e-03, 3.6351e-08,\n          2.3459e-05],\n         [4.6988e-06, 2.3599e-06, 9.1771e-07,  ..., 3.6351e-08, 1.8931e-05,\n          2.7065e-06],\n         [4.6985e-06, 2.3560e-06, 9.1675e-07,  ..., 2.3459e-05, 2.7065e-06,\n          1.7579e-05]]),\n torch.Size([2708, 2708]))"
     },
     "execution_count": 15,
     "metadata": {},
     "output_type": "execute_result"
    }
   ],
   "source": [
    "S = X_ @ X_.T / X_.norm(p=2)\n",
    "S, S.shape"
   ],
   "metadata": {
    "collapsed": false,
    "ExecuteTime": {
     "end_time": "2024-05-08T14:38:49.902845700Z",
     "start_time": "2024-05-08T14:38:49.772309700Z"
    }
   },
   "id": "92cd8397ec1de7d3",
   "execution_count": 15
  },
  {
   "cell_type": "code",
   "outputs": [
    {
     "data": {
      "text/plain": "1433"
     },
     "execution_count": 16,
     "metadata": {},
     "output_type": "execute_result"
    }
   ],
   "source": [
    "X_.size(1)"
   ],
   "metadata": {
    "collapsed": false,
    "ExecuteTime": {
     "end_time": "2024-05-08T14:38:49.914022200Z",
     "start_time": "2024-05-08T14:38:49.904975900Z"
    }
   },
   "id": "855a2946166e3653",
   "execution_count": 16
  },
  {
   "cell_type": "code",
   "outputs": [
    {
     "data": {
      "text/plain": "tensor(3.7417)"
     },
     "execution_count": 17,
     "metadata": {},
     "output_type": "execute_result"
    }
   ],
   "source": [
    "X_.norm(p=2)"
   ],
   "metadata": {
    "collapsed": false,
    "ExecuteTime": {
     "end_time": "2024-05-08T14:38:49.928750500Z",
     "start_time": "2024-05-08T14:38:49.913024700Z"
    }
   },
   "id": "aeac6a299cb17256",
   "execution_count": 17
  },
  {
   "cell_type": "code",
   "outputs": [],
   "source": [
    "model = nn.Sequential(\n",
    "\tnn.Linear(X_.size(1), 16),\n",
    "\tnn.ReLU(),\n",
    "\tnn.Linear(16, 8),\n",
    ")"
   ],
   "metadata": {
    "collapsed": false,
    "ExecuteTime": {
     "end_time": "2024-05-08T14:38:49.930745Z",
     "start_time": "2024-05-08T14:38:49.925532100Z"
    }
   },
   "id": "c5881eff1c5bf9e3",
   "execution_count": 17
  }
 ],
 "metadata": {
  "kernelspec": {
   "display_name": "Python 3",
   "language": "python",
   "name": "python3"
  },
  "language_info": {
   "codemirror_mode": {
    "name": "ipython",
    "version": 2
   },
   "file_extension": ".py",
   "mimetype": "text/x-python",
   "name": "python",
   "nbconvert_exporter": "python",
   "pygments_lexer": "ipython2",
   "version": "2.7.6"
  }
 },
 "nbformat": 4,
 "nbformat_minor": 5
}
